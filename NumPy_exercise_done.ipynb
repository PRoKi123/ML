{
  "cells": [
    {
      "cell_type": "markdown",
      "metadata": {
        "id": "Ba-33C4zWNbi"
      },
      "source": [
        "___\n",
        "\n",
        "<a href='http://www.pieriandata.com'><img src='../Pierian_Data_Logo.png'/></a>\n",
        "___\n",
        "<center><em>Авторские права принадлежат Pierian Data</em></center>\n",
        "<center><em>Для дополнительной информации посетите наш сайт <a href='http://www.pieriandata.com'>www.pieriandata.com</a></em></center>"
      ]
    },
    {
      "cell_type": "markdown",
      "metadata": {
        "id": "eOx8F3qnWNbk"
      },
      "source": [
        "# Упражнения по NumPy\n",
        "\n",
        "Давайте проверим Ваши знания NumPy. Мы начнём с достаточно простых задач, и плавно перейдём к более сложным.\n",
        "\n",
        "<div class=\"alert alert-danger\" style=\"margin: 10px\"><strong>ВАЖНОЕ ЗАМЕЧАНИЕ!</strong> Пожалуйста не запускайте ячейки, которые располагаются <br> непосредственно над ожидаемым результатом, иначе Вы удалите этот ожидаемый результат!</div>"
      ]
    },
    {
      "cell_type": "markdown",
      "metadata": {
        "id": "neviwz9WWNbl"
      },
      "source": [
        "#### 1. Импортируйте NumPy as np"
      ]
    },
    {
      "cell_type": "code",
      "execution_count": 1,
      "metadata": {
        "collapsed": true,
        "id": "BEcwcXCMWNbm"
      },
      "outputs": [],
      "source": [
        "import numpy as np"
      ]
    },
    {
      "cell_type": "markdown",
      "metadata": {
        "id": "N30gEQ1qWNbm"
      },
      "source": [
        "#### 2. Создайте массив из 10 нулей"
      ]
    },
    {
      "cell_type": "code",
      "execution_count": 2,
      "metadata": {
        "collapsed": true,
        "colab": {
          "base_uri": "https://localhost:8080/"
        },
        "id": "s2V5gPvjWNbn",
        "outputId": "6f9fe785-b868-4aa7-e08c-18281d85fd98"
      },
      "outputs": [
        {
          "output_type": "execute_result",
          "data": {
            "text/plain": [
              "array([0., 0., 0., 0., 0., 0., 0., 0., 0., 0.])"
            ]
          },
          "metadata": {},
          "execution_count": 2
        }
      ],
      "source": [
        "np.zeros(10)\n"
      ]
    },
    {
      "cell_type": "code",
      "execution_count": null,
      "metadata": {
        "id": "73-1osE9WNbn",
        "outputId": "f5d8a009-4033-422b-b3c1-1a64cba6bdaf"
      },
      "outputs": [
        {
          "data": {
            "text/plain": [
              "array([0., 0., 0., 0., 0., 0., 0., 0., 0., 0.])"
            ]
          },
          "execution_count": 2,
          "metadata": {},
          "output_type": "execute_result"
        }
      ],
      "source": [
        "# НЕ ПИШИТЕ В ЭТОЙ ЯЧЕЙКЕ\n"
      ]
    },
    {
      "cell_type": "markdown",
      "metadata": {
        "id": "K9XB_lwXWNbo"
      },
      "source": [
        "#### 3. Создайте массив из 10 единиц"
      ]
    },
    {
      "cell_type": "code",
      "execution_count": 3,
      "metadata": {
        "collapsed": true,
        "colab": {
          "base_uri": "https://localhost:8080/"
        },
        "id": "BTWFRa7bWNbp",
        "outputId": "afe45d87-ea37-450a-bf87-b0855838c92b"
      },
      "outputs": [
        {
          "output_type": "execute_result",
          "data": {
            "text/plain": [
              "array([1., 1., 1., 1., 1., 1., 1., 1., 1., 1.])"
            ]
          },
          "metadata": {},
          "execution_count": 3
        }
      ],
      "source": [
        "np.ones(10)\n"
      ]
    },
    {
      "cell_type": "code",
      "execution_count": null,
      "metadata": {
        "id": "9WM81OU4WNbp",
        "outputId": "bceda27c-5911-44e4-ec15-dc769548e662"
      },
      "outputs": [
        {
          "data": {
            "text/plain": [
              "array([1., 1., 1., 1., 1., 1., 1., 1., 1., 1.])"
            ]
          },
          "execution_count": 3,
          "metadata": {},
          "output_type": "execute_result"
        }
      ],
      "source": [
        "# НЕ ПИШИТЕ В ЭТОЙ ЯЧЕЙКЕ\n"
      ]
    },
    {
      "cell_type": "markdown",
      "metadata": {
        "id": "cSLTh6BqWNbp"
      },
      "source": [
        "#### 4. Создайте массив из 10 пятёрок"
      ]
    },
    {
      "cell_type": "code",
      "execution_count": 8,
      "metadata": {
        "collapsed": true,
        "colab": {
          "base_uri": "https://localhost:8080/"
        },
        "id": "_iod3Xi7WNbp",
        "outputId": "563bf6da-dc72-4e55-97bb-e28dff28320a"
      },
      "outputs": [
        {
          "output_type": "execute_result",
          "data": {
            "text/plain": [
              "array([5., 5., 5., 5., 5., 5., 5., 5., 5., 5.])"
            ]
          },
          "metadata": {},
          "execution_count": 8
        }
      ],
      "source": [
        "np.linspace(5,5,10)\n"
      ]
    },
    {
      "cell_type": "code",
      "execution_count": null,
      "metadata": {
        "id": "xCDbwim2WNbq",
        "outputId": "d8ee51a8-6f48-4c6b-ec33-e48b7379390f"
      },
      "outputs": [
        {
          "data": {
            "text/plain": [
              "array([5., 5., 5., 5., 5., 5., 5., 5., 5., 5.])"
            ]
          },
          "execution_count": 4,
          "metadata": {},
          "output_type": "execute_result"
        }
      ],
      "source": [
        "# НЕ ПИШИТЕ В ЭТОЙ ЯЧЕЙКЕ\n"
      ]
    },
    {
      "cell_type": "markdown",
      "metadata": {
        "id": "IkmJd-J_WNbq"
      },
      "source": [
        "#### 5. Создайте массив целых чисел от 10 до 50 включительно"
      ]
    },
    {
      "cell_type": "code",
      "execution_count": 12,
      "metadata": {
        "collapsed": true,
        "colab": {
          "base_uri": "https://localhost:8080/"
        },
        "id": "u0eKPDxFWNbq",
        "outputId": "45ca0f99-f34b-4e0f-887a-5e05191a91df"
      },
      "outputs": [
        {
          "output_type": "execute_result",
          "data": {
            "text/plain": [
              "array([10, 11, 12, 13, 14, 15, 16, 17, 18, 19, 20, 21, 22, 23, 24, 25, 26,\n",
              "       27, 28, 29, 30, 31, 32, 33, 34, 35, 36, 37, 38, 39, 40, 41, 42, 43,\n",
              "       44, 45, 46, 47, 48, 49, 50])"
            ]
          },
          "metadata": {},
          "execution_count": 12
        }
      ],
      "source": [
        "np.arange(10,51)\n"
      ]
    },
    {
      "cell_type": "code",
      "execution_count": null,
      "metadata": {
        "id": "EybcHXLKWNbq",
        "outputId": "12f84cf3-2c18-48d5-d43c-fa98d0f9239e"
      },
      "outputs": [
        {
          "data": {
            "text/plain": [
              "array([10, 11, 12, 13, 14, 15, 16, 17, 18, 19, 20, 21, 22, 23, 24, 25, 26,\n",
              "       27, 28, 29, 30, 31, 32, 33, 34, 35, 36, 37, 38, 39, 40, 41, 42, 43,\n",
              "       44, 45, 46, 47, 48, 49, 50])"
            ]
          },
          "execution_count": 5,
          "metadata": {},
          "output_type": "execute_result"
        }
      ],
      "source": [
        "# НЕ ПИШИТЕ В ЭТОЙ ЯЧЕЙКЕ\n"
      ]
    },
    {
      "cell_type": "markdown",
      "metadata": {
        "id": "OwfoTKjGWNbr"
      },
      "source": [
        "#### 6. Создайте массив всех чётных чисел от 10 до 50 включительно"
      ]
    },
    {
      "cell_type": "code",
      "execution_count": 13,
      "metadata": {
        "collapsed": true,
        "colab": {
          "base_uri": "https://localhost:8080/"
        },
        "id": "tqDFrchiWNbr",
        "outputId": "e27293af-4010-4b2e-9640-4d2da7c5a94a"
      },
      "outputs": [
        {
          "output_type": "execute_result",
          "data": {
            "text/plain": [
              "array([10, 12, 14, 16, 18, 20, 22, 24, 26, 28, 30, 32, 34, 36, 38, 40, 42,\n",
              "       44, 46, 48, 50])"
            ]
          },
          "metadata": {},
          "execution_count": 13
        }
      ],
      "source": [
        "np.arange(10,51,2)\n"
      ]
    },
    {
      "cell_type": "code",
      "execution_count": null,
      "metadata": {
        "id": "1n0gI7i1WNbr",
        "outputId": "b0d23841-f583-4746-e871-09fdc5b10425"
      },
      "outputs": [
        {
          "data": {
            "text/plain": [
              "array([10, 12, 14, 16, 18, 20, 22, 24, 26, 28, 30, 32, 34, 36, 38, 40, 42,\n",
              "       44, 46, 48, 50])"
            ]
          },
          "execution_count": 6,
          "metadata": {},
          "output_type": "execute_result"
        }
      ],
      "source": [
        "# НЕ ПИШИТЕ В ЭТОЙ ЯЧЕЙКЕ\n"
      ]
    },
    {
      "cell_type": "markdown",
      "metadata": {
        "id": "U21u30g9WNbr"
      },
      "source": [
        "#### 7. Создайте матрицу 3x3 со значениями от 0 до 8 включительно"
      ]
    },
    {
      "cell_type": "code",
      "execution_count": 14,
      "metadata": {
        "collapsed": true,
        "colab": {
          "base_uri": "https://localhost:8080/"
        },
        "id": "FA4iyDHPWNbr",
        "outputId": "a4cacba7-7e32-4a85-ee23-848c29348d4f"
      },
      "outputs": [
        {
          "output_type": "execute_result",
          "data": {
            "text/plain": [
              "array([[0, 1, 2],\n",
              "       [3, 4, 5],\n",
              "       [6, 7, 8]])"
            ]
          },
          "metadata": {},
          "execution_count": 14
        }
      ],
      "source": [
        "np.arange(0,9).reshape(3,3)\n"
      ]
    },
    {
      "cell_type": "code",
      "execution_count": null,
      "metadata": {
        "id": "cMagrrTDWNbr",
        "outputId": "b1377b88-5023-4cfa-d536-5a90cf548764"
      },
      "outputs": [
        {
          "data": {
            "text/plain": [
              "array([[0, 1, 2],\n",
              "       [3, 4, 5],\n",
              "       [6, 7, 8]])"
            ]
          },
          "execution_count": 7,
          "metadata": {},
          "output_type": "execute_result"
        }
      ],
      "source": [
        "# НЕ ПИШИТЕ В ЭТОЙ ЯЧЕЙКЕ\n"
      ]
    },
    {
      "cell_type": "markdown",
      "metadata": {
        "id": "iANVjvICWNbs"
      },
      "source": [
        "#### 8. Создайте единичную матрицу размером 3x3"
      ]
    },
    {
      "cell_type": "code",
      "execution_count": 15,
      "metadata": {
        "collapsed": true,
        "colab": {
          "base_uri": "https://localhost:8080/"
        },
        "id": "tnFWgsb-WNbs",
        "outputId": "91571ebb-96b2-4e5a-ef42-5d332915a5e6"
      },
      "outputs": [
        {
          "output_type": "execute_result",
          "data": {
            "text/plain": [
              "array([[1., 0., 0.],\n",
              "       [0., 1., 0.],\n",
              "       [0., 0., 1.]])"
            ]
          },
          "metadata": {},
          "execution_count": 15
        }
      ],
      "source": [
        "np.eye(3)\n"
      ]
    },
    {
      "cell_type": "code",
      "execution_count": null,
      "metadata": {
        "id": "Vhm2UxYrWNbs",
        "outputId": "4b858826-6ec4-4fab-82bd-86b928f488bd"
      },
      "outputs": [
        {
          "data": {
            "text/plain": [
              "array([[1., 0., 0.],\n",
              "       [0., 1., 0.],\n",
              "       [0., 0., 1.]])"
            ]
          },
          "execution_count": 8,
          "metadata": {},
          "output_type": "execute_result"
        }
      ],
      "source": [
        "# НЕ ПИШИТЕ В ЭТОЙ ЯЧЕЙКЕ\n"
      ]
    },
    {
      "cell_type": "markdown",
      "metadata": {
        "id": "VM3NUnscWNbs"
      },
      "source": [
        "#### 9. С помощью NumPy сгенерируйте случайное число в диапазоне от 0 до 1<br><br>&emsp;Замечание: Ваш результат может отличаться от того, что указано в качестве примера ниже."
      ]
    },
    {
      "cell_type": "code",
      "execution_count": 16,
      "metadata": {
        "collapsed": true,
        "colab": {
          "base_uri": "https://localhost:8080/"
        },
        "id": "Hy6ddNBgWNbs",
        "outputId": "843482b7-e808-4be8-e4cd-1b3ff18d0173"
      },
      "outputs": [
        {
          "output_type": "execute_result",
          "data": {
            "text/plain": [
              "array([0.65352203])"
            ]
          },
          "metadata": {},
          "execution_count": 16
        }
      ],
      "source": [
        "np.random.rand(1)\n"
      ]
    },
    {
      "cell_type": "code",
      "execution_count": null,
      "metadata": {
        "id": "CefDcNmYWNbt",
        "outputId": "3b7b0801-92b9-4533-ae3f-0ef29787da7e"
      },
      "outputs": [
        {
          "data": {
            "text/plain": [
              "array([0.65248055])"
            ]
          },
          "execution_count": 9,
          "metadata": {},
          "output_type": "execute_result"
        }
      ],
      "source": [
        "# НЕ ПИШИТЕ В ЭТОЙ ЯЧЕЙКЕ\n"
      ]
    },
    {
      "cell_type": "markdown",
      "metadata": {
        "id": "2ZLXiATJWNbt"
      },
      "source": [
        "#### 10. С помощью NumPy сгенерируйте массив из 25 случайных чисел, выбранных из стандартного нормального распределения<br><br>&emsp;&ensp;Замечание: Ваш результат может отличаться от того, что указано в качестве примера ниже."
      ]
    },
    {
      "cell_type": "code",
      "execution_count": 17,
      "metadata": {
        "collapsed": true,
        "colab": {
          "base_uri": "https://localhost:8080/"
        },
        "id": "tvrSo38SWNbt",
        "outputId": "f4171425-8998-46ac-bc2e-1e509ab703af"
      },
      "outputs": [
        {
          "output_type": "execute_result",
          "data": {
            "text/plain": [
              "array([-0.89526331,  0.52135467, -0.37346285,  0.01134438,  1.39755415,\n",
              "        1.57103842,  3.15111816,  0.65458927, -0.37066604, -2.6101389 ,\n",
              "       -0.21949346, -1.0311754 ,  0.3297356 , -1.57900475, -0.14716088,\n",
              "        1.74409209, -1.5464009 ,  1.08102892,  1.24629359, -0.5830229 ,\n",
              "       -0.22455678,  0.52848472,  0.51666999,  1.06399095, -0.46234498])"
            ]
          },
          "metadata": {},
          "execution_count": 17
        }
      ],
      "source": [
        "np.random.randn(25)\n"
      ]
    },
    {
      "cell_type": "code",
      "execution_count": null,
      "metadata": {
        "id": "oN616bXEWNbt",
        "outputId": "a9bee62f-cb37-45fa-f400-ab88ac65fe9e"
      },
      "outputs": [
        {
          "data": {
            "text/plain": [
              "array([ 1.80076712, -1.12375847, -0.98524305,  0.11673573,  1.96346762,\n",
              "        1.81378592, -0.33790771,  0.85012656,  0.0100703 , -0.91005957,\n",
              "        0.29064366,  0.69906357,  0.1774377 , -0.61958694, -0.45498611,\n",
              "       -2.0804685 , -0.06778549,  1.06403819,  0.4311884 , -1.09853837,\n",
              "        1.11980469, -0.48751963,  1.32517611, -0.61775122, -0.00622865])"
            ]
          },
          "execution_count": 10,
          "metadata": {},
          "output_type": "execute_result"
        }
      ],
      "source": [
        "# НЕ ПИШИТЕ В ЭТОЙ ЯЧЕЙКЕ\n"
      ]
    },
    {
      "cell_type": "markdown",
      "metadata": {
        "id": "1dShk94uWNbu"
      },
      "source": [
        "#### 11. Создайте указанную ниже матрицу:"
      ]
    },
    {
      "cell_type": "code",
      "execution_count": 64,
      "metadata": {
        "collapsed": true,
        "colab": {
          "base_uri": "https://localhost:8080/"
        },
        "id": "STxGW_zcWNbu",
        "outputId": "0aeabdec-fade-4388-9781-98e55e096a19"
      },
      "outputs": [
        {
          "output_type": "execute_result",
          "data": {
            "text/plain": [
              "array([[0.01, 0.02, 0.03, 0.04, 0.05, 0.06, 0.07, 0.08, 0.09, 0.1 ],\n",
              "       [0.11, 0.12, 0.13, 0.14, 0.15, 0.16, 0.17, 0.18, 0.19, 0.2 ],\n",
              "       [0.21, 0.22, 0.23, 0.24, 0.25, 0.26, 0.27, 0.28, 0.29, 0.3 ],\n",
              "       [0.31, 0.32, 0.33, 0.34, 0.35, 0.36, 0.37, 0.38, 0.39, 0.4 ],\n",
              "       [0.41, 0.42, 0.43, 0.44, 0.45, 0.46, 0.47, 0.48, 0.49, 0.5 ],\n",
              "       [0.51, 0.52, 0.53, 0.54, 0.55, 0.56, 0.57, 0.58, 0.59, 0.6 ],\n",
              "       [0.61, 0.62, 0.63, 0.64, 0.65, 0.66, 0.67, 0.68, 0.69, 0.7 ],\n",
              "       [0.71, 0.72, 0.73, 0.74, 0.75, 0.76, 0.77, 0.78, 0.79, 0.8 ],\n",
              "       [0.81, 0.82, 0.83, 0.84, 0.85, 0.86, 0.87, 0.88, 0.89, 0.9 ],\n",
              "       [0.91, 0.92, 0.93, 0.94, 0.95, 0.96, 0.97, 0.98, 0.99, 1.  ]])"
            ]
          },
          "metadata": {},
          "execution_count": 64
        }
      ],
      "source": [
        "arr = np.arange(1,101)/ 100\n",
        "arr.reshape(10,10)\n"
      ]
    },
    {
      "cell_type": "code",
      "execution_count": null,
      "metadata": {
        "id": "nA038lbyWNbu",
        "outputId": "2afb5320-7b02-46ae-9eea-4dd028110ad2"
      },
      "outputs": [
        {
          "data": {
            "text/plain": [
              "array([[0.01, 0.02, 0.03, 0.04, 0.05, 0.06, 0.07, 0.08, 0.09, 0.1 ],\n",
              "       [0.11, 0.12, 0.13, 0.14, 0.15, 0.16, 0.17, 0.18, 0.19, 0.2 ],\n",
              "       [0.21, 0.22, 0.23, 0.24, 0.25, 0.26, 0.27, 0.28, 0.29, 0.3 ],\n",
              "       [0.31, 0.32, 0.33, 0.34, 0.35, 0.36, 0.37, 0.38, 0.39, 0.4 ],\n",
              "       [0.41, 0.42, 0.43, 0.44, 0.45, 0.46, 0.47, 0.48, 0.49, 0.5 ],\n",
              "       [0.51, 0.52, 0.53, 0.54, 0.55, 0.56, 0.57, 0.58, 0.59, 0.6 ],\n",
              "       [0.61, 0.62, 0.63, 0.64, 0.65, 0.66, 0.67, 0.68, 0.69, 0.7 ],\n",
              "       [0.71, 0.72, 0.73, 0.74, 0.75, 0.76, 0.77, 0.78, 0.79, 0.8 ],\n",
              "       [0.81, 0.82, 0.83, 0.84, 0.85, 0.86, 0.87, 0.88, 0.89, 0.9 ],\n",
              "       [0.91, 0.92, 0.93, 0.94, 0.95, 0.96, 0.97, 0.98, 0.99, 1.  ]])"
            ]
          },
          "execution_count": 11,
          "metadata": {},
          "output_type": "execute_result"
        }
      ],
      "source": [
        "# НЕ ПИШИТЕ В ЭТОЙ ЯЧЕЙКЕ\n"
      ]
    },
    {
      "cell_type": "markdown",
      "metadata": {
        "id": "Ya5LzXS4WNbu"
      },
      "source": [
        "#### 12. Создайте массив из 20 равноудалённых друг от друга точек между 0 и 1:"
      ]
    },
    {
      "cell_type": "code",
      "execution_count": 29,
      "metadata": {
        "collapsed": true,
        "colab": {
          "base_uri": "https://localhost:8080/"
        },
        "id": "_MX45fmhWNbu",
        "outputId": "39cdd563-c54d-4bb2-b931-36f677fbd0c2"
      },
      "outputs": [
        {
          "output_type": "execute_result",
          "data": {
            "text/plain": [
              "array([0.        , 0.05263158, 0.10526316, 0.15789474, 0.21052632,\n",
              "       0.26315789, 0.31578947, 0.36842105, 0.42105263, 0.47368421,\n",
              "       0.52631579, 0.57894737, 0.63157895, 0.68421053, 0.73684211,\n",
              "       0.78947368, 0.84210526, 0.89473684, 0.94736842, 1.        ])"
            ]
          },
          "metadata": {},
          "execution_count": 29
        }
      ],
      "source": [
        "np.linspace(0,1,20)\n"
      ]
    },
    {
      "cell_type": "code",
      "execution_count": null,
      "metadata": {
        "id": "ft44z94fWNbu",
        "outputId": "561a5553-e5a7-4c19-9f99-e120913da69e"
      },
      "outputs": [
        {
          "data": {
            "text/plain": [
              "array([0.        , 0.05263158, 0.10526316, 0.15789474, 0.21052632,\n",
              "       0.26315789, 0.31578947, 0.36842105, 0.42105263, 0.47368421,\n",
              "       0.52631579, 0.57894737, 0.63157895, 0.68421053, 0.73684211,\n",
              "       0.78947368, 0.84210526, 0.89473684, 0.94736842, 1.        ])"
            ]
          },
          "execution_count": 12,
          "metadata": {},
          "output_type": "execute_result"
        }
      ],
      "source": [
        "# НЕ ПИШИТЕ В ЭТОЙ ЯЧЕЙКЕ\n"
      ]
    },
    {
      "cell_type": "markdown",
      "metadata": {
        "id": "4a6td6aRWNbv"
      },
      "source": [
        "## Индексация Numpy\n",
        "\n",
        "Здесь Вы будете работать с некоторой матрицей - чтобы создать её, запустите следующую ячейку! После этого мы попросим Вас воспроизвести несколько результатов работы с этой матрицей:"
      ]
    },
    {
      "cell_type": "code",
      "execution_count": 30,
      "metadata": {
        "colab": {
          "base_uri": "https://localhost:8080/"
        },
        "id": "p5WxEayeWNbv",
        "outputId": "c1c7ef96-2511-41cf-ac84-1cc62d9b599f"
      },
      "outputs": [
        {
          "output_type": "execute_result",
          "data": {
            "text/plain": [
              "array([[ 1,  2,  3,  4,  5],\n",
              "       [ 6,  7,  8,  9, 10],\n",
              "       [11, 12, 13, 14, 15],\n",
              "       [16, 17, 18, 19, 20],\n",
              "       [21, 22, 23, 24, 25]])"
            ]
          },
          "metadata": {},
          "execution_count": 30
        }
      ],
      "source": [
        "# ЗАПУСТИТЕ ЭТУ ЯЧЕЙКУ - ЭТО СОЗДАНИЕ МАТРИЦЫ ДЛЯ СЛЕДУЮЩИХ ЗАДАНИЙ\n",
        "mat = np.arange(1,26).reshape(5,5)\n",
        "mat"
      ]
    },
    {
      "cell_type": "markdown",
      "metadata": {
        "id": "kh9frab6WNb4"
      },
      "source": [
        "#### 13. Напишите код, который на основе матрицы mat выведет указанную ниже матрицу (подсказка - используйте индексацию)."
      ]
    },
    {
      "cell_type": "code",
      "execution_count": 35,
      "metadata": {
        "collapsed": true,
        "colab": {
          "base_uri": "https://localhost:8080/"
        },
        "id": "XCaJVQdvWNb4",
        "outputId": "cccfd27b-a332-4178-fd3d-7dc6f2b3fa2b"
      },
      "outputs": [
        {
          "output_type": "execute_result",
          "data": {
            "text/plain": [
              "array([[12, 13, 14, 15],\n",
              "       [17, 18, 19, 20],\n",
              "       [22, 23, 24, 25]])"
            ]
          },
          "metadata": {},
          "execution_count": 35
        }
      ],
      "source": [
        "mat[2:,1:]\n"
      ]
    },
    {
      "cell_type": "code",
      "execution_count": null,
      "metadata": {
        "id": "z8aYu0CEWNb4",
        "outputId": "57d58921-74a8-4d9e-b686-63f049dc2ea0"
      },
      "outputs": [
        {
          "data": {
            "text/plain": [
              "array([[12, 13, 14, 15],\n",
              "       [17, 18, 19, 20],\n",
              "       [22, 23, 24, 25]])"
            ]
          },
          "execution_count": 14,
          "metadata": {},
          "output_type": "execute_result"
        }
      ],
      "source": [
        "# НЕ ПИШИТЕ В ЭТОЙ ЯЧЕЙКЕ\n"
      ]
    },
    {
      "cell_type": "markdown",
      "metadata": {
        "id": "Q6KChRDOWNb4"
      },
      "source": [
        "#### 14. Напишите код, который на основе матрицы mat выведет указанную ниже матрицу."
      ]
    },
    {
      "cell_type": "code",
      "execution_count": 39,
      "metadata": {
        "collapsed": true,
        "colab": {
          "base_uri": "https://localhost:8080/"
        },
        "id": "Z1_9enx9WNb4",
        "outputId": "6707beed-2e0f-456e-8fac-9025392e7bcb"
      },
      "outputs": [
        {
          "output_type": "execute_result",
          "data": {
            "text/plain": [
              "20"
            ]
          },
          "metadata": {},
          "execution_count": 39
        }
      ],
      "source": [
        "mat[3][4]\n"
      ]
    },
    {
      "cell_type": "code",
      "execution_count": null,
      "metadata": {
        "id": "8DEO_R0oWNb4",
        "outputId": "0b6361b3-bcea-4738-fd91-13c1da210254"
      },
      "outputs": [
        {
          "data": {
            "text/plain": [
              "20"
            ]
          },
          "execution_count": 15,
          "metadata": {},
          "output_type": "execute_result"
        }
      ],
      "source": [
        "# НЕ ПИШИТЕ В ЭТОЙ ЯЧЕЙКЕ\n"
      ]
    },
    {
      "cell_type": "markdown",
      "metadata": {
        "id": "nJbc3AwtWNb5"
      },
      "source": [
        "#### 15. Напишите код, который на основе матрицы mat выведет указанную ниже матрицу."
      ]
    },
    {
      "cell_type": "code",
      "execution_count": 65,
      "metadata": {
        "collapsed": true,
        "colab": {
          "base_uri": "https://localhost:8080/"
        },
        "id": "jYH0yrRrWNb5",
        "outputId": "e5303248-df49-492e-dd0e-406003a61aa3"
      },
      "outputs": [
        {
          "output_type": "execute_result",
          "data": {
            "text/plain": [
              "array([[ 2],\n",
              "       [ 7],\n",
              "       [12]])"
            ]
          },
          "metadata": {},
          "execution_count": 65
        }
      ],
      "source": [
        "mat[0:3,1:2]\n"
      ]
    },
    {
      "cell_type": "code",
      "execution_count": null,
      "metadata": {
        "id": "CPbh7WJlWNb5",
        "outputId": "f0a42f4b-bd4e-4bce-ebb3-2a52a88ca5cf"
      },
      "outputs": [
        {
          "data": {
            "text/plain": [
              "array([[ 2],\n",
              "       [ 7],\n",
              "       [12]])"
            ]
          },
          "execution_count": 16,
          "metadata": {},
          "output_type": "execute_result"
        }
      ],
      "source": [
        "# НЕ ПИШИТЕ В ЭТОЙ ЯЧЕЙКЕ\n"
      ]
    },
    {
      "cell_type": "markdown",
      "metadata": {
        "id": "BCmnMuKYWNb5"
      },
      "source": [
        "#### 16. Напишите код, который на основе матрицы mat выведет указанную ниже матрицу."
      ]
    },
    {
      "cell_type": "code",
      "execution_count": 46,
      "metadata": {
        "collapsed": true,
        "colab": {
          "base_uri": "https://localhost:8080/"
        },
        "id": "ENoqMLf8WNb5",
        "outputId": "521b8f4f-d37d-43c1-ad39-2996dd7758a4"
      },
      "outputs": [
        {
          "output_type": "execute_result",
          "data": {
            "text/plain": [
              "array([21, 22, 23, 24, 25])"
            ]
          },
          "metadata": {},
          "execution_count": 46
        }
      ],
      "source": [
        "mat[4]\n"
      ]
    },
    {
      "cell_type": "code",
      "execution_count": null,
      "metadata": {
        "id": "5_GTDyo9WNb5",
        "outputId": "faf84545-a2db-4f28-efa6-29ed15049b7b"
      },
      "outputs": [
        {
          "data": {
            "text/plain": [
              "array([21, 22, 23, 24, 25])"
            ]
          },
          "execution_count": 17,
          "metadata": {},
          "output_type": "execute_result"
        }
      ],
      "source": [
        "# НЕ ПИШИТЕ В ЭТОЙ ЯЧЕЙКЕ\n"
      ]
    },
    {
      "cell_type": "markdown",
      "metadata": {
        "id": "U4ihIhVlWNb5"
      },
      "source": [
        "#### 17. Напишите код, который на основе матрицы mat выведет указанную ниже матрицу."
      ]
    },
    {
      "cell_type": "code",
      "execution_count": 50,
      "metadata": {
        "collapsed": true,
        "colab": {
          "base_uri": "https://localhost:8080/"
        },
        "id": "l14KP4-KWNb5",
        "outputId": "5852288f-899c-4c73-bb46-b978a60a0fea"
      },
      "outputs": [
        {
          "output_type": "execute_result",
          "data": {
            "text/plain": [
              "array([[16, 17, 18, 19, 20],\n",
              "       [21, 22, 23, 24, 25]])"
            ]
          },
          "metadata": {},
          "execution_count": 50
        }
      ],
      "source": [
        "mat[3:5]\n"
      ]
    },
    {
      "cell_type": "code",
      "execution_count": null,
      "metadata": {
        "id": "W72YTx14WNb6",
        "outputId": "676a06ec-7784-4362-be81-4b4cd62ecbfb"
      },
      "outputs": [
        {
          "data": {
            "text/plain": [
              "array([[16, 17, 18, 19, 20],\n",
              "       [21, 22, 23, 24, 25]])"
            ]
          },
          "execution_count": 18,
          "metadata": {},
          "output_type": "execute_result"
        }
      ],
      "source": [
        "# НЕ ПИШИТЕ В ЭТОЙ ЯЧЕЙКЕ\n"
      ]
    },
    {
      "cell_type": "markdown",
      "metadata": {
        "id": "bWh3iG7zWNb6"
      },
      "source": [
        "## Операции в NumPy"
      ]
    },
    {
      "cell_type": "markdown",
      "metadata": {
        "id": "dGmjK7D9WNb6"
      },
      "source": [
        "#### 18. Найдите сумму всех чисел в матрице mat"
      ]
    },
    {
      "cell_type": "code",
      "execution_count": 51,
      "metadata": {
        "collapsed": true,
        "colab": {
          "base_uri": "https://localhost:8080/"
        },
        "id": "cgWS78H0WNb6",
        "outputId": "fde93e51-984e-4724-a094-a3ec50115d6a"
      },
      "outputs": [
        {
          "output_type": "execute_result",
          "data": {
            "text/plain": [
              "325"
            ]
          },
          "metadata": {},
          "execution_count": 51
        }
      ],
      "source": [
        "mat.sum()\n"
      ]
    },
    {
      "cell_type": "code",
      "execution_count": null,
      "metadata": {
        "id": "h3jjO2t2WNb6",
        "outputId": "17124b23-6ff4-4150-9c12-02aefc892fdd"
      },
      "outputs": [
        {
          "data": {
            "text/plain": [
              "325"
            ]
          },
          "execution_count": 19,
          "metadata": {},
          "output_type": "execute_result"
        }
      ],
      "source": [
        "# НЕ ПИШИТЕ В ЭТОЙ ЯЧЕЙКЕ\n"
      ]
    },
    {
      "cell_type": "markdown",
      "metadata": {
        "id": "_bAD5F30WNb6"
      },
      "source": [
        "#### 19. Найдите среднеквадратичное отклонение значений в матрице mat"
      ]
    },
    {
      "cell_type": "code",
      "execution_count": 52,
      "metadata": {
        "collapsed": true,
        "colab": {
          "base_uri": "https://localhost:8080/"
        },
        "id": "CZ7uGLezWNb7",
        "outputId": "2c3bd474-a8d4-4077-bed5-3f6debda4a54"
      },
      "outputs": [
        {
          "output_type": "execute_result",
          "data": {
            "text/plain": [
              "7.211102550927978"
            ]
          },
          "metadata": {},
          "execution_count": 52
        }
      ],
      "source": [
        " mat.std()\n"
      ]
    },
    {
      "cell_type": "code",
      "execution_count": null,
      "metadata": {
        "id": "IqmgPOSuWNb7",
        "outputId": "0e337983-e124-4e20-c316-77f22e987cdf"
      },
      "outputs": [
        {
          "data": {
            "text/plain": [
              "7.211102550927978"
            ]
          },
          "execution_count": 20,
          "metadata": {},
          "output_type": "execute_result"
        }
      ],
      "source": [
        "# НЕ ПИШИТЕ В ЭТОЙ ЯЧЕЙКЕ\n"
      ]
    },
    {
      "cell_type": "markdown",
      "metadata": {
        "id": "9fT0aeoFWNb7"
      },
      "source": [
        "#### 20. Найдите сумму каждой из колонок в матрице mat"
      ]
    },
    {
      "cell_type": "code",
      "execution_count": 53,
      "metadata": {
        "collapsed": true,
        "colab": {
          "base_uri": "https://localhost:8080/"
        },
        "id": "PVryVU3xWNb7",
        "outputId": "80800597-52c3-49d0-a823-7b5c4d5eb62d"
      },
      "outputs": [
        {
          "output_type": "execute_result",
          "data": {
            "text/plain": [
              "array([55, 60, 65, 70, 75])"
            ]
          },
          "metadata": {},
          "execution_count": 53
        }
      ],
      "source": [
        "mat.sum(axis=0)\n"
      ]
    },
    {
      "cell_type": "code",
      "execution_count": null,
      "metadata": {
        "id": "AEDi8HdlWNb7",
        "outputId": "a5747a03-a139-408a-87a0-2f4b9c88b337"
      },
      "outputs": [
        {
          "data": {
            "text/plain": [
              "array([55, 60, 65, 70, 75])"
            ]
          },
          "execution_count": 21,
          "metadata": {},
          "output_type": "execute_result"
        }
      ],
      "source": [
        "# НЕ ПИШИТЕ В ЭТОЙ ЯЧЕЙКЕ\n"
      ]
    },
    {
      "cell_type": "markdown",
      "metadata": {
        "id": "zmwMBSyzWNb7"
      },
      "source": [
        "## Бонусный вопрос\n",
        "\n",
        "Мы много работали со случайными данными в numpy, но есть ли способ каждый раз получать одни и те же \"случайные\" результаты? [Для подсказки нажмите здесь](https://www.google.com/search?q=numpy+random+seed&rlz=1C1CHBF_enUS747US747&oq=numpy+random+seed&aqs=chrome..69i57j69i60j0l4.2087j0j7&sourceid=chrome&ie=UTF-8)"
      ]
    },
    {
      "cell_type": "code",
      "execution_count": 58,
      "metadata": {
        "collapsed": true,
        "colab": {
          "base_uri": "https://localhost:8080/"
        },
        "id": "rYsb9N3iWNb7",
        "outputId": "0012a80f-8f94-4c8d-a32c-cecbd178c86a"
      },
      "outputs": [
        {
          "output_type": "execute_result",
          "data": {
            "text/plain": [
              "array([0.37454012, 0.95071431, 0.73199394, 0.59865848])"
            ]
          },
          "metadata": {},
          "execution_count": 58
        }
      ],
      "source": [
        "np.random.seed(42)\n",
        "np.random.random(4)\n"
      ]
    },
    {
      "cell_type": "markdown",
      "metadata": {
        "collapsed": true,
        "id": "vD9-J37cWNb7"
      },
      "source": [
        "# Отличная работа!"
      ]
    },
    {
      "cell_type": "code",
      "execution_count": 58,
      "metadata": {
        "id": "wQ1QT0a3WNb8"
      },
      "outputs": [],
      "source": []
    }
  ],
  "metadata": {
    "anaconda-cloud": {},
    "kernelspec": {
      "display_name": "Python 3",
      "language": "python",
      "name": "python3"
    },
    "language_info": {
      "codemirror_mode": {
        "name": "ipython",
        "version": 3
      },
      "file_extension": ".py",
      "mimetype": "text/x-python",
      "name": "python",
      "nbconvert_exporter": "python",
      "pygments_lexer": "ipython3",
      "version": "3.8.5"
    },
    "colab": {
      "provenance": []
    }
  },
  "nbformat": 4,
  "nbformat_minor": 0
}