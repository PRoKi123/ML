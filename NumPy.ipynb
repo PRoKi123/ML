{
  "nbformat": 4,
  "nbformat_minor": 0,
  "metadata": {
    "colab": {
      "provenance": []
    },
    "kernelspec": {
      "name": "python3",
      "display_name": "Python 3"
    },
    "language_info": {
      "name": "python"
    }
  },
  "cells": [
    {
      "cell_type": "code",
      "execution_count": 1,
      "metadata": {
        "id": "6ezUBmZLSTqv"
      },
      "outputs": [],
      "source": [
        "import numpy as np\n"
      ]
    },
    {
      "cell_type": "markdown",
      "source": [
        "Создаем массивы в np\n"
      ],
      "metadata": {
        "id": "YA7cmNFwSlmM"
      }
    },
    {
      "cell_type": "code",
      "source": [
        "my_list = [1,2,3,4,5]\n",
        "my_arr = np.array(my_list)\n",
        "my_arr\n",
        "#Создали массив из обычного python list"
      ],
      "metadata": {
        "colab": {
          "base_uri": "https://localhost:8080/"
        },
        "id": "pihV0vz0FsiE",
        "outputId": "44b30712-f7da-4760-a77a-90be713a81a7"
      },
      "execution_count": 2,
      "outputs": [
        {
          "output_type": "execute_result",
          "data": {
            "text/plain": [
              "array([1, 2, 3, 4, 5])"
            ]
          },
          "metadata": {},
          "execution_count": 2
        }
      ]
    },
    {
      "cell_type": "code",
      "source": [
        "my_matrix = [[1,2,3],[4,5,6],[7,8,9]]\n",
        "matrix = np.array(my_matrix)\n",
        "matrix\n",
        "#Создали массив из обычного python list"
      ],
      "metadata": {
        "colab": {
          "base_uri": "https://localhost:8080/"
        },
        "id": "iB6sHpC1GDZf",
        "outputId": "f4e5fceb-0cea-4e53-bef0-3dfab461fb12"
      },
      "execution_count": 3,
      "outputs": [
        {
          "output_type": "execute_result",
          "data": {
            "text/plain": [
              "array([[1, 2, 3],\n",
              "       [4, 5, 6],\n",
              "       [7, 8, 9]])"
            ]
          },
          "metadata": {},
          "execution_count": 3
        }
      ]
    },
    {
      "cell_type": "code",
      "source": [
        "array = np.arange(0,10)\n",
        "#Создаем массив чисел от 0 до 10 не включая 10. np.arange(начало диапазона, конец диапазона, шаг(необязательный аргумент))"
      ],
      "metadata": {
        "id": "NodjWh15GY_4"
      },
      "execution_count": 4,
      "outputs": []
    },
    {
      "cell_type": "code",
      "source": [
        "array_zeros = np.zeros(5)\n",
        "array_zeros\n",
        "#Создали массив, заполненный 5 нулями.\n"
      ],
      "metadata": {
        "colab": {
          "base_uri": "https://localhost:8080/"
        },
        "id": "NjORLd67Gxl4",
        "outputId": "12a30c1a-07fc-4454-aed7-9111713e2216"
      },
      "execution_count": 5,
      "outputs": [
        {
          "output_type": "execute_result",
          "data": {
            "text/plain": [
              "array([0., 0., 0., 0., 0.])"
            ]
          },
          "metadata": {},
          "execution_count": 5
        }
      ]
    },
    {
      "cell_type": "code",
      "source": [
        "array_zeros_matrix = np.zeros((5,5))\n",
        "array_zeros_matrix\n",
        "#Создали матрицу 5 на 5 (сначала строки, потом колонки)"
      ],
      "metadata": {
        "colab": {
          "base_uri": "https://localhost:8080/"
        },
        "id": "3Ru6AuHhHO1z",
        "outputId": "d44eba39-f89e-49af-ab8a-f18b25357a65"
      },
      "execution_count": 6,
      "outputs": [
        {
          "output_type": "execute_result",
          "data": {
            "text/plain": [
              "array([[0., 0., 0., 0., 0.],\n",
              "       [0., 0., 0., 0., 0.],\n",
              "       [0., 0., 0., 0., 0.],\n",
              "       [0., 0., 0., 0., 0.],\n",
              "       [0., 0., 0., 0., 0.]])"
            ]
          },
          "metadata": {},
          "execution_count": 6
        }
      ]
    },
    {
      "cell_type": "code",
      "source": [
        "array_ones = np.ones(5)\n",
        "array_ones\n",
        "#Тоже самое, что и с нулями"
      ],
      "metadata": {
        "colab": {
          "base_uri": "https://localhost:8080/"
        },
        "id": "h_zdNx6oHWYC",
        "outputId": "8784166b-67da-4367-fc0f-da9f3f8b5cce"
      },
      "execution_count": 7,
      "outputs": [
        {
          "output_type": "execute_result",
          "data": {
            "text/plain": [
              "array([1., 1., 1., 1., 1.])"
            ]
          },
          "metadata": {},
          "execution_count": 7
        }
      ]
    },
    {
      "cell_type": "code",
      "source": [
        "new_array = np.linspace(0,10,3)\n",
        "new_array\n",
        "#Создали массив равноудаленных друг от друга чисел в диапазоне 10. np.linspace(начало диапазона, конеец диапазона, сколько равноудаленных друг от друга чисел(необязательный))\n",
        "#Конец диапазона включен"
      ],
      "metadata": {
        "colab": {
          "base_uri": "https://localhost:8080/"
        },
        "id": "TtakLDqoHex0",
        "outputId": "2fbba2e7-a4c3-486b-bca6-36640408adc8"
      },
      "execution_count": 8,
      "outputs": [
        {
          "output_type": "execute_result",
          "data": {
            "text/plain": [
              "array([ 0.,  5., 10.])"
            ]
          },
          "metadata": {},
          "execution_count": 8
        }
      ]
    },
    {
      "cell_type": "code",
      "source": [
        "square_matrix = np.eye(3)\n",
        "square_matrix\n",
        "#Создает квадратную матрицу. np.eye(кол-во строчек и столбцов)"
      ],
      "metadata": {
        "colab": {
          "base_uri": "https://localhost:8080/"
        },
        "id": "CqOzeL2eIFQg",
        "outputId": "fb25f3d4-0e86-4276-dfd9-898db6f113bf"
      },
      "execution_count": 9,
      "outputs": [
        {
          "output_type": "execute_result",
          "data": {
            "text/plain": [
              "array([[1., 0., 0.],\n",
              "       [0., 1., 0.],\n",
              "       [0., 0., 1.]])"
            ]
          },
          "metadata": {},
          "execution_count": 9
        }
      ]
    },
    {
      "cell_type": "code",
      "source": [
        "random_numbers = np.random.rand(5)\n",
        "random_numbers\n",
        "#Создает 5 случайных чисел в диапазоне от 0 до 1"
      ],
      "metadata": {
        "colab": {
          "base_uri": "https://localhost:8080/"
        },
        "id": "3uPmIt2fIivF",
        "outputId": "785fddf2-be4a-41e3-a3f3-7447efccf97d"
      },
      "execution_count": 10,
      "outputs": [
        {
          "output_type": "execute_result",
          "data": {
            "text/plain": [
              "array([0.36208793, 0.79764482, 0.92452502, 0.73178265, 0.59044979])"
            ]
          },
          "metadata": {},
          "execution_count": 10
        }
      ]
    },
    {
      "cell_type": "code",
      "source": [
        "random_numbers_matrix = np.random.rand(5,3)\n",
        "random_numbers_matrix\n",
        "#Создает случайную матрицу из 5 строк и 3 столбцов"
      ],
      "metadata": {
        "colab": {
          "base_uri": "https://localhost:8080/"
        },
        "id": "82vntvu1I5yh",
        "outputId": "0696071c-671e-414f-84b7-e89ca553dff4"
      },
      "execution_count": 11,
      "outputs": [
        {
          "output_type": "execute_result",
          "data": {
            "text/plain": [
              "array([[0.11130854, 0.19568486, 0.99297281],\n",
              "       [0.78849201, 0.78331757, 0.19449553],\n",
              "       [0.04506297, 0.72965203, 0.15636595],\n",
              "       [0.964509  , 0.15904752, 0.17470977],\n",
              "       [0.31234653, 0.61514152, 0.3001765 ]])"
            ]
          },
          "metadata": {},
          "execution_count": 11
        }
      ]
    },
    {
      "cell_type": "code",
      "source": [
        "random_number_positive_and_negative = np.random.randn(5)\n",
        "random_number_positive_and_negative\n",
        "#Создает массив из случайных положительных и отрицательных чисел. Вероятность получить числа, близкие к 0 больше, т.к распределение нормальное"
      ],
      "metadata": {
        "colab": {
          "base_uri": "https://localhost:8080/"
        },
        "id": "Z7UtHmC7JISz",
        "outputId": "e8f0bda1-b027-41b0-f7de-b31fc2082521"
      },
      "execution_count": 12,
      "outputs": [
        {
          "output_type": "execute_result",
          "data": {
            "text/plain": [
              "array([ 0.78535898, -2.0896362 , -0.7166915 , -0.5628029 , -0.00823613])"
            ]
          },
          "metadata": {},
          "execution_count": 12
        }
      ]
    },
    {
      "cell_type": "code",
      "source": [
        "random_integers = np.random.randint(5,10,3)\n",
        "random_integers\n",
        "#Создает массив из 3 случайных целых чисел в диапазоне от 5 до 10. np.random.randint(начало диапазона, конец диапазона, сколько чисел) Верхняя граница не включена"
      ],
      "metadata": {
        "colab": {
          "base_uri": "https://localhost:8080/"
        },
        "id": "vRo2gtzLJn_U",
        "outputId": "db410741-66b9-4114-faa5-2702a55f390f"
      },
      "execution_count": 13,
      "outputs": [
        {
          "output_type": "execute_result",
          "data": {
            "text/plain": [
              "array([9, 8, 6])"
            ]
          },
          "metadata": {},
          "execution_count": 13
        }
      ]
    },
    {
      "cell_type": "code",
      "source": [
        "seed = np.random.seed(42)\n",
        "seed_array = np.random.random(4)\n",
        "seed_array\n",
        "#Указываем 2 команды в одной ячейке. По сиду выводит 4 числа"
      ],
      "metadata": {
        "colab": {
          "base_uri": "https://localhost:8080/"
        },
        "id": "iTk5A4owK7Rs",
        "outputId": "6d164e17-e78d-4615-9c8c-236b8310c640"
      },
      "execution_count": 14,
      "outputs": [
        {
          "output_type": "execute_result",
          "data": {
            "text/plain": [
              "array([0.37454012, 0.95071431, 0.73199394, 0.59865848])"
            ]
          },
          "metadata": {},
          "execution_count": 14
        }
      ]
    },
    {
      "cell_type": "code",
      "source": [
        "arr = np.arange(0,25)\n",
        "arr.reshape(5,5)\n",
        "arr\n",
        "#Сделали двумерный массив 5 на 5 из одномерного. Указываем размер, чтобы поместились все числа"
      ],
      "metadata": {
        "colab": {
          "base_uri": "https://localhost:8080/"
        },
        "id": "HRGiMXS8LbNe",
        "outputId": "c48b05aa-0c7a-4b54-f1b1-a9e4e3397667"
      },
      "execution_count": 15,
      "outputs": [
        {
          "output_type": "execute_result",
          "data": {
            "text/plain": [
              "array([ 0,  1,  2,  3,  4,  5,  6,  7,  8,  9, 10, 11, 12, 13, 14, 15, 16,\n",
              "       17, 18, 19, 20, 21, 22, 23, 24])"
            ]
          },
          "metadata": {},
          "execution_count": 15
        }
      ]
    },
    {
      "cell_type": "code",
      "source": [
        "ran_arr = np.random.randint(0,101,10)\n",
        "ran_arr.max() #выводит максимальное число\n",
        "ran_arr.min() #выводит мнимальное число число\n",
        "ran_arr.argmax()#выводит индекс максимального числа\n",
        "ran_arr.argmin()#выводит индекс минимального числа"
      ],
      "metadata": {
        "colab": {
          "base_uri": "https://localhost:8080/"
        },
        "id": "a2oNVl2RLudw",
        "outputId": "baf2ec48-b42a-4b24-b63d-c3541294748a"
      },
      "execution_count": 16,
      "outputs": [
        {
          "output_type": "execute_result",
          "data": {
            "text/plain": [
              "7"
            ]
          },
          "metadata": {},
          "execution_count": 16
        }
      ]
    },
    {
      "cell_type": "markdown",
      "source": [
        "Индексация и выборка\n"
      ],
      "metadata": {
        "id": "02yj53yBMZS3"
      }
    },
    {
      "cell_type": "code",
      "source": [
        "arr = np.arange(0,11)\n",
        "arr"
      ],
      "metadata": {
        "colab": {
          "base_uri": "https://localhost:8080/"
        },
        "id": "PB4v6gwlrepZ",
        "outputId": "5b285838-d6ef-4cc0-98a6-ff6199f3bcfa"
      },
      "execution_count": 17,
      "outputs": [
        {
          "output_type": "execute_result",
          "data": {
            "text/plain": [
              "array([ 0,  1,  2,  3,  4,  5,  6,  7,  8,  9, 10])"
            ]
          },
          "metadata": {},
          "execution_count": 17
        }
      ]
    },
    {
      "cell_type": "code",
      "source": [
        "arr[1:8]"
      ],
      "metadata": {
        "colab": {
          "base_uri": "https://localhost:8080/"
        },
        "id": "RgGJey-drubX",
        "outputId": "80734e40-6103-42b8-defc-d4de67393771"
      },
      "execution_count": 18,
      "outputs": [
        {
          "output_type": "execute_result",
          "data": {
            "text/plain": [
              "array([1, 2, 3, 4, 5, 6, 7])"
            ]
          },
          "metadata": {},
          "execution_count": 18
        }
      ]
    },
    {
      "cell_type": "code",
      "source": [
        "arr[5:]"
      ],
      "metadata": {
        "colab": {
          "base_uri": "https://localhost:8080/"
        },
        "id": "lP342tS4r01b",
        "outputId": "d22078b8-9fe6-4709-f5c4-548db3496a42"
      },
      "execution_count": 19,
      "outputs": [
        {
          "output_type": "execute_result",
          "data": {
            "text/plain": [
              "array([ 5,  6,  7,  8,  9, 10])"
            ]
          },
          "metadata": {},
          "execution_count": 19
        }
      ]
    },
    {
      "cell_type": "code",
      "source": [
        "arr[:5]"
      ],
      "metadata": {
        "colab": {
          "base_uri": "https://localhost:8080/"
        },
        "id": "N1C49DA_r6Xh",
        "outputId": "79304857-ee5d-453e-ac6c-30f6474e5a34"
      },
      "execution_count": 20,
      "outputs": [
        {
          "output_type": "execute_result",
          "data": {
            "text/plain": [
              "array([0, 1, 2, 3, 4])"
            ]
          },
          "metadata": {},
          "execution_count": 20
        }
      ]
    },
    {
      "cell_type": "code",
      "source": [
        "arr[0:5] = 0,1,2,3,4\n",
        "arr\n",
        "#Broadcasting"
      ],
      "metadata": {
        "colab": {
          "base_uri": "https://localhost:8080/"
        },
        "id": "uuNwCmetr8CO",
        "outputId": "33bd0594-c366-4513-c40f-d051cf98e962"
      },
      "execution_count": 21,
      "outputs": [
        {
          "output_type": "execute_result",
          "data": {
            "text/plain": [
              "array([ 0,  1,  2,  3,  4,  5,  6,  7,  8,  9, 10])"
            ]
          },
          "metadata": {},
          "execution_count": 21
        }
      ]
    },
    {
      "cell_type": "code",
      "source": [
        "slice_of_array = arr[0:5]\n",
        "slice_of_array"
      ],
      "metadata": {
        "colab": {
          "base_uri": "https://localhost:8080/"
        },
        "id": "mBpZvG2RsA8R",
        "outputId": "995fde21-ceb1-4ea3-fb57-36a1fba4fdeb"
      },
      "execution_count": 22,
      "outputs": [
        {
          "output_type": "execute_result",
          "data": {
            "text/plain": [
              "array([0, 1, 2, 3, 4])"
            ]
          },
          "metadata": {},
          "execution_count": 22
        }
      ]
    },
    {
      "cell_type": "code",
      "source": [
        "arr_copy = arr.copy()\n",
        "#Копия массива"
      ],
      "metadata": {
        "id": "d89ROHi0tAp5"
      },
      "execution_count": 23,
      "outputs": []
    },
    {
      "cell_type": "code",
      "source": [
        "array_2d = np.array([[5,10,15], [20,25,30], [35,40,45]])\n",
        "array_2d"
      ],
      "metadata": {
        "colab": {
          "base_uri": "https://localhost:8080/"
        },
        "id": "lBFLC9wDu9js",
        "outputId": "5f24910f-ce9c-4215-b838-264c15674170"
      },
      "execution_count": 24,
      "outputs": [
        {
          "output_type": "execute_result",
          "data": {
            "text/plain": [
              "array([[ 5, 10, 15],\n",
              "       [20, 25, 30],\n",
              "       [35, 40, 45]])"
            ]
          },
          "metadata": {},
          "execution_count": 24
        }
      ]
    },
    {
      "cell_type": "code",
      "source": [
        "array_2d[0]\n",
        "#вывели первую строку матрицы"
      ],
      "metadata": {
        "colab": {
          "base_uri": "https://localhost:8080/"
        },
        "id": "N4KVYDLdvQcB",
        "outputId": "ec1a369a-81d3-4a32-b1e1-089e1a153610"
      },
      "execution_count": 25,
      "outputs": [
        {
          "output_type": "execute_result",
          "data": {
            "text/plain": [
              "array([ 5, 10, 15])"
            ]
          },
          "metadata": {},
          "execution_count": 25
        }
      ]
    },
    {
      "cell_type": "code",
      "source": [
        "array_2d[1][1]\n",
        "#Вывели второй элемент второй строки"
      ],
      "metadata": {
        "colab": {
          "base_uri": "https://localhost:8080/"
        },
        "id": "eo0Iya6EvV1n",
        "outputId": "4759fdb2-515b-4df4-8815-95756bbf8773"
      },
      "execution_count": 26,
      "outputs": [
        {
          "output_type": "execute_result",
          "data": {
            "text/plain": [
              "25"
            ]
          },
          "metadata": {},
          "execution_count": 26
        }
      ]
    },
    {
      "cell_type": "code",
      "source": [
        "array_2d[0:2,1:]\n",
        "#вывели второй и третий элемент первой и второй строки"
      ],
      "metadata": {
        "colab": {
          "base_uri": "https://localhost:8080/"
        },
        "id": "Qew6BMAxveDk",
        "outputId": "d020dc88-d8de-459b-b4dc-b0f49c4968a1"
      },
      "execution_count": 27,
      "outputs": [
        {
          "output_type": "execute_result",
          "data": {
            "text/plain": [
              "array([[10, 15],\n",
              "       [25, 30]])"
            ]
          },
          "metadata": {},
          "execution_count": 27
        }
      ]
    },
    {
      "cell_type": "code",
      "source": [
        "arr = np.arange(1,11)\n",
        "bool_arr = arr > 4\n",
        "bool_arr"
      ],
      "metadata": {
        "colab": {
          "base_uri": "https://localhost:8080/"
        },
        "id": "hunE97OTv9y2",
        "outputId": "2219b6f1-fb05-47bd-bfff-23e23b689988"
      },
      "execution_count": 28,
      "outputs": [
        {
          "output_type": "execute_result",
          "data": {
            "text/plain": [
              "array([False, False, False, False,  True,  True,  True,  True,  True,\n",
              "        True])"
            ]
          },
          "metadata": {},
          "execution_count": 28
        }
      ]
    },
    {
      "cell_type": "code",
      "source": [
        "arr[bool_arr] #вывели все числа, соответствующие условию bool_arr"
      ],
      "metadata": {
        "colab": {
          "base_uri": "https://localhost:8080/"
        },
        "id": "qDShx2zhwHGP",
        "outputId": "882d2283-2dde-4d67-c62f-e0621274a7e7"
      },
      "execution_count": 29,
      "outputs": [
        {
          "output_type": "execute_result",
          "data": {
            "text/plain": [
              "array([ 5,  6,  7,  8,  9, 10])"
            ]
          },
          "metadata": {},
          "execution_count": 29
        }
      ]
    },
    {
      "cell_type": "code",
      "source": [
        "arr[arr > 4]\n",
        "#Можно сразу условие внутри"
      ],
      "metadata": {
        "colab": {
          "base_uri": "https://localhost:8080/"
        },
        "id": "W5-67npiwRly",
        "outputId": "2319bf26-c1ab-4dc8-e806-6119ed9672a9"
      },
      "execution_count": 30,
      "outputs": [
        {
          "output_type": "execute_result",
          "data": {
            "text/plain": [
              "array([ 5,  6,  7,  8,  9, 10])"
            ]
          },
          "metadata": {},
          "execution_count": 30
        }
      ]
    },
    {
      "cell_type": "markdown",
      "source": [
        "Операции в NumPy"
      ],
      "metadata": {
        "id": "2ZGpr8jDVmHY"
      }
    },
    {
      "cell_type": "code",
      "source": [
        "arr = np.arange(0,10)\n",
        "arr"
      ],
      "metadata": {
        "colab": {
          "base_uri": "https://localhost:8080/"
        },
        "id": "rMpunAqHUEai",
        "outputId": "574a5603-c54e-4782-d56b-404ad5cf5b9e"
      },
      "execution_count": 34,
      "outputs": [
        {
          "output_type": "execute_result",
          "data": {
            "text/plain": [
              "array([0, 1, 2, 3, 4, 5, 6, 7, 8, 9])"
            ]
          },
          "metadata": {},
          "execution_count": 34
        }
      ]
    },
    {
      "cell_type": "code",
      "source": [
        "arr + 5 # к каждому элементу массива прибавили 5"
      ],
      "metadata": {
        "colab": {
          "base_uri": "https://localhost:8080/"
        },
        "id": "Cdc7NJLMUJZY",
        "outputId": "0f725b26-d071-40a5-aeae-4917843b6209"
      },
      "execution_count": 32,
      "outputs": [
        {
          "output_type": "execute_result",
          "data": {
            "text/plain": [
              "array([ 5,  6,  7,  8,  9, 10, 11, 12, 13, 14])"
            ]
          },
          "metadata": {},
          "execution_count": 32
        }
      ]
    },
    {
      "cell_type": "code",
      "source": [
        "arr + arr # сложение массивов"
      ],
      "metadata": {
        "colab": {
          "base_uri": "https://localhost:8080/"
        },
        "id": "7TfIE38wUR3v",
        "outputId": "aacad93d-d5f2-4e14-e645-4cb404d33194"
      },
      "execution_count": 35,
      "outputs": [
        {
          "output_type": "execute_result",
          "data": {
            "text/plain": [
              "array([ 0,  2,  4,  6,  8, 10, 12, 14, 16, 18])"
            ]
          },
          "metadata": {},
          "execution_count": 35
        }
      ]
    },
    {
      "cell_type": "code",
      "source": [
        "arr / arr # хоть на 0 нельзя делить, в NumPy выведит nan, а остальные разделит"
      ],
      "metadata": {
        "colab": {
          "base_uri": "https://localhost:8080/"
        },
        "id": "qIP5Xlp0UYsm",
        "outputId": "63bf356d-ff0e-471a-fd0c-cd60d7191d00"
      },
      "execution_count": 36,
      "outputs": [
        {
          "output_type": "stream",
          "name": "stderr",
          "text": [
            "<ipython-input-36-7f952cd3e0ce>:1: RuntimeWarning: invalid value encountered in divide\n",
            "  arr / arr\n"
          ]
        },
        {
          "output_type": "execute_result",
          "data": {
            "text/plain": [
              "array([nan,  1.,  1.,  1.,  1.,  1.,  1.,  1.,  1.,  1.])"
            ]
          },
          "metadata": {},
          "execution_count": 36
        }
      ]
    },
    {
      "cell_type": "code",
      "source": [
        "arr.sum()"
      ],
      "metadata": {
        "colab": {
          "base_uri": "https://localhost:8080/"
        },
        "id": "cSqc4ZdMUiZf",
        "outputId": "e80a85a4-0858-4f96-96aa-23645c071fa4"
      },
      "execution_count": 37,
      "outputs": [
        {
          "output_type": "execute_result",
          "data": {
            "text/plain": [
              "45"
            ]
          },
          "metadata": {},
          "execution_count": 37
        }
      ]
    },
    {
      "cell_type": "code",
      "source": [
        "arr.mean() # среднее значение массива"
      ],
      "metadata": {
        "colab": {
          "base_uri": "https://localhost:8080/"
        },
        "id": "W6pfsLVJUowv",
        "outputId": "98533d73-7244-4878-94ad-6bc70d877f6d"
      },
      "execution_count": 38,
      "outputs": [
        {
          "output_type": "execute_result",
          "data": {
            "text/plain": [
              "4.5"
            ]
          },
          "metadata": {},
          "execution_count": 38
        }
      ]
    },
    {
      "cell_type": "code",
      "source": [
        "arr.var() # дисперсия"
      ],
      "metadata": {
        "colab": {
          "base_uri": "https://localhost:8080/"
        },
        "id": "PNSxFFMGUsnh",
        "outputId": "40921a80-14b0-47d7-9bc5-d8db964c988d"
      },
      "execution_count": 39,
      "outputs": [
        {
          "output_type": "execute_result",
          "data": {
            "text/plain": [
              "8.25"
            ]
          },
          "metadata": {},
          "execution_count": 39
        }
      ]
    },
    {
      "cell_type": "code",
      "source": [
        "arr.std() # стандартное отклонение"
      ],
      "metadata": {
        "colab": {
          "base_uri": "https://localhost:8080/"
        },
        "id": "OcUaCNE1Uwkv",
        "outputId": "05c86a57-3a54-4174-9f6f-b05d086d93a4"
      },
      "execution_count": 40,
      "outputs": [
        {
          "output_type": "execute_result",
          "data": {
            "text/plain": [
              "2.8722813232690143"
            ]
          },
          "metadata": {},
          "execution_count": 40
        }
      ]
    },
    {
      "cell_type": "code",
      "source": [
        "array_2d = np.arange(0,25).reshape(5,5)\n",
        "array_2d"
      ],
      "metadata": {
        "colab": {
          "base_uri": "https://localhost:8080/"
        },
        "id": "G8BtG4k3Uy3Y",
        "outputId": "38d08058-ac09-43fc-fa1a-11fea943825f"
      },
      "execution_count": 43,
      "outputs": [
        {
          "output_type": "execute_result",
          "data": {
            "text/plain": [
              "array([[ 0,  1,  2,  3,  4],\n",
              "       [ 5,  6,  7,  8,  9],\n",
              "       [10, 11, 12, 13, 14],\n",
              "       [15, 16, 17, 18, 19],\n",
              "       [20, 21, 22, 23, 24]])"
            ]
          },
          "metadata": {},
          "execution_count": 43
        }
      ]
    },
    {
      "cell_type": "code",
      "source": [
        "array_2d.sum() # сумма всех элементов матрицы"
      ],
      "metadata": {
        "colab": {
          "base_uri": "https://localhost:8080/"
        },
        "id": "11yjaLxYU_1J",
        "outputId": "c5e43357-aa15-43d0-d4c1-1eb1a121cc14"
      },
      "execution_count": 44,
      "outputs": [
        {
          "output_type": "execute_result",
          "data": {
            "text/plain": [
              "300"
            ]
          },
          "metadata": {},
          "execution_count": 44
        }
      ]
    },
    {
      "cell_type": "code",
      "source": [
        "array_2d.sum(axis = 0) # сумма элементов по столбцам"
      ],
      "metadata": {
        "colab": {
          "base_uri": "https://localhost:8080/"
        },
        "id": "Wn26siO0VI6m",
        "outputId": "5f96824a-b363-4ca8-cd3c-374e56df6c79"
      },
      "execution_count": 45,
      "outputs": [
        {
          "output_type": "execute_result",
          "data": {
            "text/plain": [
              "array([50, 55, 60, 65, 70])"
            ]
          },
          "metadata": {},
          "execution_count": 45
        }
      ]
    },
    {
      "cell_type": "code",
      "source": [
        "array_2d.sum(axis = 1) # сумма элементов по строкам"
      ],
      "metadata": {
        "id": "OElUOuqeVRPQ"
      },
      "execution_count": null,
      "outputs": []
    },
    {
      "cell_type": "markdown",
      "source": [
        "Пишем тот axis, который хотим удалить\n"
      ],
      "metadata": {
        "id": "JIjiPF1OVTp5"
      }
    },
    {
      "cell_type": "code",
      "source": [],
      "metadata": {
        "id": "l3Sd-rypVZIp"
      },
      "execution_count": null,
      "outputs": []
    }
  ]
}