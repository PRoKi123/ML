{
  "nbformat": 4,
  "nbformat_minor": 0,
  "metadata": {
    "colab": {
      "provenance": []
    },
    "kernelspec": {
      "name": "python3",
      "display_name": "Python 3"
    },
    "language_info": {
      "name": "python"
    }
  },
  "cells": [
    {
      "cell_type": "code",
      "source": [
        "import pandas as pd"
      ],
      "metadata": {
        "id": "CKzGisrE6832"
      },
      "execution_count": 1,
      "outputs": []
    },
    {
      "cell_type": "markdown",
      "source": [
        "Pandas может читать и записывать только обычные данные (без макросов, визуализации и формул в ячейках)"
      ],
      "metadata": {
        "id": "-6TJdAYi7Fgp"
      }
    },
    {
      "cell_type": "code",
      "source": [
        "df = pd.read_excel('my_excel_file.xlsx', sheet_name='First_Sheet')\n",
        "#загрузили 1 лист excel файла\n",
        "#иногда нужно явно указать параметр engine='openpyxl'\n",
        "#sheet_name='First_Sheet' - загружаем только первый лист\n",
        "#sheet_name=None - загружаем все листы"
      ],
      "metadata": {
        "id": "Laed2D-77Kxq"
      },
      "execution_count": 2,
      "outputs": []
    },
    {
      "cell_type": "code",
      "source": [
        " wb = pd.ExcelFile('my_excel_file.xlsx')"
      ],
      "metadata": {
        "id": "_6PRnAUK7uqb"
      },
      "execution_count": 3,
      "outputs": []
    },
    {
      "cell_type": "code",
      "source": [
        "wb.sheet_names\n",
        "#получили список названий листов"
      ],
      "metadata": {
        "colab": {
          "base_uri": "https://localhost:8080/"
        },
        "id": "b3Zm6ecw77GI",
        "outputId": "8c39bcb0-397a-4cf8-8767-06eb9722fce1"
      },
      "execution_count": 6,
      "outputs": [
        {
          "output_type": "execute_result",
          "data": {
            "text/plain": [
              "['First_Sheet']"
            ]
          },
          "metadata": {},
          "execution_count": 6
        }
      ]
    },
    {
      "cell_type": "code",
      "source": [
        "excel_sheet_dict = pd.read_excel('my_excel_file.xlsx', sheet_name=None)\n",
        "#загрузили все листы excel файла"
      ],
      "metadata": {
        "id": "6HqeEXzI8Fv3"
      },
      "execution_count": 9,
      "outputs": []
    },
    {
      "cell_type": "code",
      "source": [
        "our_df = excel_sheet_dict['First_Sheet']\n",
        "#обратились к словарю по ключу"
      ],
      "metadata": {
        "id": "9cGP2sNo8Vd_"
      },
      "execution_count": 10,
      "outputs": []
    },
    {
      "cell_type": "code",
      "source": [
        "our_df.to_excel('example.xlsx', sheet_name='First_Sheet', index=False)\n",
        "#сохранили excel файл"
      ],
      "metadata": {
        "id": "Geyh-fa98gnN"
      },
      "execution_count": 15,
      "outputs": []
    }
  ]
}